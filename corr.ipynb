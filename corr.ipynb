{
 "cells": [
  {
   "cell_type": "code",
   "execution_count": 2,
   "metadata": {},
   "outputs": [],
   "source": [
    "import pandas as pd\n",
    "from scipy.stats import kendalltau, spearmanr\n"
   ]
  },
  {
   "cell_type": "code",
   "execution_count": 3,
   "metadata": {},
   "outputs": [],
   "source": [
    "\n",
    "# Read the cleaned data from the CSV file\n",
    "data = pd.read_csv('weather_cleaned.csv')\n"
   ]
  },
  {
   "cell_type": "code",
   "execution_count": 4,
   "metadata": {},
   "outputs": [],
   "source": [
    "\n",
    "# Specify the variables you want to calculate correlations for\n",
    "variables_of_interest = ['Temperature (C)', 'Humidity (%)', 'Rainfall (mm)', 'Wind Speed (m/s)']\n",
    "\n",
    "# Calculate Pearson correlation coefficient\n",
    "pearson_corr = data[variables_of_interest].corr(method='pearson')\n"
   ]
  },
  {
   "cell_type": "code",
   "execution_count": 5,
   "metadata": {},
   "outputs": [
    {
     "name": "stdout",
     "output_type": "stream",
     "text": [
      "Pearson Correlation Coefficient:\n",
      "                  Temperature (C)  Humidity (%)  Rainfall (mm)  \\\n",
      "Temperature (C)          1.000000      0.021132      -0.097855   \n",
      "Humidity (%)             0.021132      1.000000       0.229892   \n",
      "Rainfall (mm)           -0.097855      0.229892       1.000000   \n",
      "Wind Speed (m/s)         0.123470     -0.128414       0.067084   \n",
      "\n",
      "                  Wind Speed (m/s)  \n",
      "Temperature (C)           0.123470  \n",
      "Humidity (%)             -0.128414  \n",
      "Rainfall (mm)             0.067084  \n",
      "Wind Speed (m/s)          1.000000  \n",
      "\n",
      "Kendall Correlation Coefficient:\n",
      "Temperature (C): 1.0 (p-value: 7.099489116467312e-129)\n",
      "Humidity (%): 1.0 (p-value: 4.5254169025669617e-41)\n",
      "Rainfall (mm): 1.0 (p-value: 7.099489116467312e-129)\n",
      "Wind Speed (m/s): 1.0 (p-value: 7.099489116467312e-129)\n",
      "\n",
      "Spearman Correlation Coefficient:\n",
      "Temperature (C): 1.0 (p-value: 0.0)\n",
      "Humidity (%): 0.9999999999999999 (p-value: 0.0)\n",
      "Rainfall (mm): 1.0 (p-value: 0.0)\n",
      "Wind Speed (m/s): 1.0 (p-value: 0.0)\n"
     ]
    }
   ],
   "source": [
    "# Calculate Kendall correlation coefficient and p-value\n",
    "kendall_corr = {}\n",
    "for var in variables_of_interest:\n",
    "    tau, p_value = kendalltau(data[var], data[var])\n",
    "    kendall_corr[var] = {'Kendall correlation coefficient': tau, 'p-value': p_value}\n",
    "\n",
    "# Calculate Spearman correlation coefficient and p-value\n",
    "spearman_corr = {}\n",
    "for var in variables_of_interest:\n",
    "    rho, p_value = spearmanr(data[var], data[var])\n",
    "    spearman_corr[var] = {'Spearman correlation coefficient': rho, 'p-value': p_value}\n",
    "\n",
    "# Print results\n",
    "print(\"Pearson Correlation Coefficient:\")\n",
    "print(pearson_corr)\n",
    "print(\"\\nKendall Correlation Coefficient:\")\n",
    "for var, corr in kendall_corr.items():\n",
    "    print(f\"{var}: {corr['Kendall correlation coefficient']} (p-value: {corr['p-value']})\")\n",
    "print(\"\\nSpearman Correlation Coefficient:\")\n",
    "for var, corr in spearman_corr.items():\n",
    "    print(f\"{var}: {corr['Spearman correlation coefficient']} (p-value: {corr['p-value']})\")"
   ]
  },
  {
   "cell_type": "code",
   "execution_count": null,
   "metadata": {},
   "outputs": [],
   "source": []
  }
 ],
 "metadata": {
  "kernelspec": {
   "display_name": "Python 3",
   "language": "python",
   "name": "python3"
  },
  "language_info": {
   "codemirror_mode": {
    "name": "ipython",
    "version": 3
   },
   "file_extension": ".py",
   "mimetype": "text/x-python",
   "name": "python",
   "nbconvert_exporter": "python",
   "pygments_lexer": "ipython3",
   "version": "3.8.9"
  }
 },
 "nbformat": 4,
 "nbformat_minor": 2
}
