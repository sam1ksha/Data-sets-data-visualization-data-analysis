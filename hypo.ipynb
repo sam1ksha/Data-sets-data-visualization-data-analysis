{
 "cells": [
  {
   "cell_type": "code",
   "execution_count": 4,
   "metadata": {},
   "outputs": [
    {
     "name": "stdout",
     "output_type": "stream",
     "text": [
      "T-statistic: -121.90090247499258\n",
      "P-value: 0.0\n",
      "Reject the null hypothesis: The average temperature is significantly different from 24\n"
     ]
    }
   ],
   "source": [
    "from scipy import stats\n",
    "import pandas as pd\n",
    "\n",
    "# Read the data from the provided dataset\n",
    "data = pd.read_csv('actual_weather.csv')\n",
    "\n",
    "# Select the temperature data\n",
    "temperature_data = data['Temp_C']\n",
    "\n",
    "# Specify the city or date range if needed\n",
    "# For example:\n",
    "# city_data = data[data['City'] == 'new molly']['Temp_C']\n",
    "# date_range_data = data[(data['Date/Time'] >= '2012-01-01') & (data['Date/Time'] <= '2012-01-31')]['Temp_C']\n",
    "\n",
    "# Specify the value you want to compare the average temperature to\n",
    "specified_value = 24  # Change this to the desired value\n",
    "\n",
    "# Perform one-sample t-test\n",
    "t_statistic, p_value = stats.ttest_1samp(temperature_data, specified_value)\n",
    "\n",
    "# Set significance level\n",
    "alpha = 0.05\n",
    "\n",
    "# Print results\n",
    "print(\"T-statistic:\", t_statistic)\n",
    "print(\"P-value:\", p_value)\n",
    "\n",
    "# Compare p-value to the significance level\n",
    "if p_value < alpha:\n",
    "    print(\"Reject the null hypothesis: The average temperature is significantly different from\", specified_value)\n",
    "else:\n",
    "    print(\"Fail to reject the null hypothesis: The average temperature is not significantly different from\", specified_value)\n"
   ]
  }
 ],
 "metadata": {
  "kernelspec": {
   "display_name": "Python 3",
   "language": "python",
   "name": "python3"
  },
  "language_info": {
   "codemirror_mode": {
    "name": "ipython",
    "version": 3
   },
   "file_extension": ".py",
   "mimetype": "text/x-python",
   "name": "python",
   "nbconvert_exporter": "python",
   "pygments_lexer": "ipython3",
   "version": "3.8.9"
  }
 },
 "nbformat": 4,
 "nbformat_minor": 2
}
